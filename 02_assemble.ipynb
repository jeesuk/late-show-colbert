{
 "cells": [
  {
   "cell_type": "code",
   "execution_count": 1,
   "metadata": {},
   "outputs": [],
   "source": [
    "import os\n",
    "import pandas as pd\n",
    "import numpy as np\n",
    "import datetime\n",
    "# import time\n",
    "import pickle\n",
    "\n",
    "data_dir = '../data'\n",
    "processed_dir = '../processed'\n",
    "\n",
    "headers = {\n",
    "    'LSSC': [\n",
    "        'No.',\n",
    "        'Original air date',\n",
    "        'Guest(s)',\n",
    "        'Musical/entertainment guest(s)'\n",
    "    ]\n",
    "}\n",
    "\n",
    "select = {\n",
    "    'LSSC': headers['LSSC'],\n",
    "}\n",
    "\n",
    "# Concatening the Wikipedia scrapes into one csv file that will be read in.\n",
    "def concatenate(prefix='LSSC'):\n",
    "    files = os.listdir(data_dir)\n",
    "    full = []\n",
    "    for f in files:\n",
    "        if not f.startswith(prefix):\n",
    "            continue\n",
    "\n",
    "        data = pd.read_csv(os.path.join(data_dir, f), engine='python', header=None, \n",
    "                           names=headers[prefix], index_col=False)\n",
    "        data = data[select[prefix]]\n",
    "        full.append(data)\n",
    "\n",
    "    full = pd.concat(full, axis=0)\n",
    "\n",
    "    full.to_csv(os.path.join(processed_dir, '{}.csv'.format(prefix)), header=select[prefix], index=False)\n",
    "\n",
    "if __name__ == '__main__':\n",
    "    concatenate('LSSC')"
   ]
  },
  {
   "cell_type": "code",
   "execution_count": 2,
   "metadata": {},
   "outputs": [],
   "source": [
    "def read():\n",
    "    wiki = pd.read_csv(os.path.join(processed_dir, 'LSSC.csv'), sep=',')\n",
    "    return wiki\n",
    "\n",
    "if __name__ == '__main__':\n",
    "    wiki = read()"
   ]
  },
  {
   "cell_type": "markdown",
   "metadata": {},
   "source": [
    "# EXPLORATORY DATA ANALYSIS"
   ]
  },
  {
   "cell_type": "code",
   "execution_count": 3,
   "metadata": {
    "scrolled": false
   },
   "outputs": [],
   "source": [
    "# Will need to scan the expanded table for errors and inconsistencies.\n",
    "pd.set_option('display.max_rows', 2200)"
   ]
  },
  {
   "cell_type": "code",
   "execution_count": 4,
   "metadata": {
    "scrolled": true
   },
   "outputs": [],
   "source": [
    "# Dropping rows with null values in the Guests column.\n",
    "wiki = wiki.dropna(axis=0, subset=['Guest(s)'])\n",
    "\n",
    "# Dropping rows with 'Guest(s)' in the Guests column.\n",
    "wiki = wiki[wiki['Guest(s)'] != 'Guest(s)']\n",
    "\n",
    "wiki = wiki.reset_index()\n",
    "\n",
    "# Setting cutoff point as the March 22nd, 2019, episode. This was when I first pulled the data.\n",
    "wiki = wiki[:719]\n",
    "\n",
    "# Dropping 'index' column. Not needed.\n",
    "wiki = wiki.drop(['index'], axis=1)"
   ]
  },
  {
   "cell_type": "markdown",
   "metadata": {},
   "source": [
    "## Splitting guests into multiple columns"
   ]
  },
  {
   "cell_type": "code",
   "execution_count": 5,
   "metadata": {
    "scrolled": true
   },
   "outputs": [],
   "source": [
    "wiki[['Guest_1','Guest_2','Guest_3','Guest_4', 'Guest_5']] = wiki['Guest(s)'].str.split(',', expand=True)\n",
    "wiki[['Guest_6','Guest_7','Guest_8']] = wiki['Musical/entertainment guest(s)'].str.split(',', expand=True)"
   ]
  },
  {
   "cell_type": "code",
   "execution_count": 6,
   "metadata": {},
   "outputs": [],
   "source": [
    "# Converting air date to datetime format and create new column for it.\n",
    "wiki['date'] = pd.to_datetime(wiki['Original air date'])\n",
    "\n",
    "# Sorting by air date in ascending order.\n",
    "wiki = wiki.sort_values(by='date')\n",
    "wiki = wiki.reset_index()\n",
    "wiki = wiki.drop(['index','Original air date'], axis=1)"
   ]
  },
  {
   "cell_type": "code",
   "execution_count": 7,
   "metadata": {
    "scrolled": true
   },
   "outputs": [],
   "source": [
    "wiki = wiki.apply(lambda x : x.str.strip() if x.dtype=='object' else x)"
   ]
  },
  {
   "cell_type": "markdown",
   "metadata": {},
   "source": [
    "## Main guest cleaning\n",
    "In a typical episode of the show, there are three guests. The first two (typically occupying `Guest_1` and `Guest_2` columns, respectively) conduct interviews with Colbert. The final guest is a musician or some other form of entertainer (occupying the `Guest_6` column and the others if needed.)\n",
    "\n",
    "Checking the `Guest_3` column lets us see if there are interviews that consist of multiple guests simultaneously."
   ]
  },
  {
   "cell_type": "code",
   "execution_count": 8,
   "metadata": {
    "scrolled": true
   },
   "outputs": [
    {
     "data": {
      "text/plain": [
       "Brian Greene                             3\n",
       "Isaac Mizrahi                            2\n",
       "Gilbert Gottfried                        2\n",
       "Lewis Black                              2\n",
       "Roy Wood Jr.                             2\n",
       "Triumph                                  2\n",
       "Judy Gold                                2\n",
       "Tommy Vietor                             2\n",
       "Ken Burns                                2\n",
       "Paula Poundstone                         2\n",
       "Louie Anderson                           2\n",
       "Megyn Kelly                              2\n",
       "Jon Lovett                               2\n",
       "Charlamagne Tha God                      2\n",
       "Michaela Watkins                         2\n",
       "George Saunders                          1\n",
       "Michael Eric Dyson                       1\n",
       "Peter Serafinowicz                       1\n",
       "Paul Mecurio                             1\n",
       "George Takei                             1\n",
       "Florent Groberg                          1\n",
       "Jonah Reider                             1\n",
       "Mike Epps                                1\n",
       "Martha Stewart                           1\n",
       "David Chang                              1\n",
       "Robert Smigel                            1\n",
       "Tony Rock                                1\n",
       "Derek DelGaudio                          1\n",
       "Carrie Brownstein                        1\n",
       "Dr. Eugenia Cheng                        1\n",
       "Jr.                                      1\n",
       "Mary Elizabeth Winstead                  1\n",
       "Michael Lewis                            1\n",
       "PewDiePie                                1\n",
       "Robin Thede                              1\n",
       "Adam Richman                             1\n",
       "General Michael Hayden                   1\n",
       "George Church                            1\n",
       "Amy Cuddy                                1\n",
       "Moshe Kasher                             1\n",
       "Robert Klein                             1\n",
       "June Diane Raphael                       1\n",
       "Jena Friedman                            1\n",
       "Morgan Spurlock                          1\n",
       "Eric André                               1\n",
       "Cory Booker                              1\n",
       "DeRay McKesson                           1\n",
       "Bill Withers & Ed Sheeran                1\n",
       "Andrew Sullivan                          1\n",
       "Thomas L. Friedman                       1\n",
       "Ta-Nehisi Coates                         1\n",
       "Jessica Chastain                         1\n",
       "Niecy Nash                               1\n",
       "Joe Walsh                                1\n",
       "Max Brooks                               1\n",
       "John Avlon                               1\n",
       "Katherine Waterston                      1\n",
       "Carly Fleischmann                        1\n",
       "Michael Pollan                           1\n",
       "Ronny Chieng                             1\n",
       "RuPaul Charles                           1\n",
       "Governors Gary Johnson & William Weld    1\n",
       "Chris Wallace                            1\n",
       "Bret Baier                               1\n",
       "DeRay Mckesson                           1\n",
       "Dean Baquet                              1\n",
       "Erin Brockovich                          1\n",
       "Michelle Wolf                            1\n",
       "Yvette Nicole Brown                      1\n",
       "Jack Maxwell                             1\n",
       "Spike Feresten                           1\n",
       "Jackson Galaxy                           1\n",
       "Sarah Koenig                             1\n",
       "Laura Ricciardi & Moira Demos            1\n",
       "Dan Levy                                 1\n",
       "Jerrod Carmichael                        1\n",
       "John Waters                              1\n",
       "Marina Franklin                          1\n",
       "Paul Scheer                              1\n",
       "Ben Sinclair                             1\n",
       "Oliver Stone                             1\n",
       "Malcolm Gladwell                         1\n",
       "Olivia Hallisey                          1\n",
       "Sean Evans                               1\n",
       "Scott Rogowsky                           1\n",
       "Jen Kirkman                              1\n",
       "Allen Leech                              1\n",
       "Bruce Campbell & Lucy Lawless            1\n",
       "Paul F. Tompkins                         1\n",
       "Dave & Virginia Grohl                    1\n",
       "David Ortiz                              1\n",
       "Jeff Watson                              1\n",
       "John Irving                              1\n",
       "John Oliver                              1\n",
       "Sarah McDaniel                           1\n",
       "Senator Elizabeth Warren                 1\n",
       "Andy Daly                                1\n",
       "Nell Scovell                             1\n",
       "Chris Gethard                            1\n",
       "Adam Savage                              1\n",
       "Bob Saget                                1\n",
       "Tom Papa                                 1\n",
       "Senator Amy Klobuchar                    1\n",
       "H. Jon Benjamin                          1\n",
       "2 Chainz                                 1\n",
       "Alton Brown                              1\n",
       "Andrew Delbanco                          1\n",
       "Chesley Sullenberger                     1\n",
       "The Ghost Brothers                       1\n",
       "Ezra Edelman                             1\n",
       "Sonequa Martin-Green                     1\n",
       "Brian Huskey                             1\n",
       "Marie Kondo                              1\n",
       "W. Kamau Bell                            1\n",
       "Alex Wagner                              1\n",
       "Henry Rollins                            1\n",
       "Michael Showalter                        1\n",
       "Christopher Wheeldon                     1\n",
       "Wyatt Cenac                              1\n",
       "John McWhorter                           1\n",
       "Asa Butterfield                          1\n",
       "Alexandria Ocasio-Cortez                 1\n",
       "Marty & Rick Lagina                      1\n",
       "Jon Glaser                               1\n",
       "Jordan Klepper                           1\n",
       "Carly Simon                              1\n",
       "Max Greenfield                           1\n",
       "April Ryan                               1\n",
       "Daniel Boulud                            1\n",
       "Steve Kornacki                           1\n",
       "Buzz Aldrin                              1\n",
       "Tom Segura                               1\n",
       "Luke Bryan & Dierks Bentley              1\n",
       "Ron Suskind                              1\n",
       "Nate Silver                              1\n",
       "Ira Madison III                          1\n",
       "Jorge Ramos                              1\n",
       "Christian Borle                          1\n",
       "Rob Huebel                               1\n",
       "Congressman John Lewis                   1\n",
       "Sam Richardson                           1\n",
       "Gayle King                               1\n",
       "Name: Guest_3, dtype: int64"
      ]
     },
     "execution_count": 8,
     "metadata": {},
     "output_type": "execute_result"
    }
   ],
   "source": [
    "wiki.Guest_3.value_counts()"
   ]
  },
  {
   "cell_type": "code",
   "execution_count": 9,
   "metadata": {},
   "outputs": [],
   "source": [
    "wiki.loc[(wiki.date=='2016-02-07')] = wiki.loc[\n",
    "    (wiki.date=='2016-02-07')].replace({'Guest_4' : None}, 'Keegan-Michael Key, Jordan Peele')\n",
    "\n",
    "wiki.loc[(wiki.date=='2016-02-07')] = wiki.loc[\n",
    "    (wiki.date=='2016-02-07')].replace({'Guest_6' : 'Keegan-Michael Key & Jordan Peele'}, 'None')"
   ]
  },
  {
   "cell_type": "code",
   "execution_count": 10,
   "metadata": {},
   "outputs": [],
   "source": [
    "wiki.loc[(wiki.date=='2016-02-18')] = wiki.loc[\n",
    "    (wiki.date=='2016-02-18')].replace({'Guest_3' : 'Triumph'}, 'Triumph the Insult Comic Dog')\n",
    "\n",
    "wiki.loc[(wiki.date=='2016-02-18')] = wiki.loc[\n",
    "    (wiki.date=='2016-02-18')].replace({'Guest_4' : 'the Insult Comic Dog'}, 'None')"
   ]
  },
  {
   "cell_type": "code",
   "execution_count": 11,
   "metadata": {},
   "outputs": [],
   "source": [
    "wiki.loc[(wiki.date=='2016-11-09')] = wiki.loc[\n",
    "    (wiki.date=='2016-11-09')].replace({'Guest_3' : 'Triumph'}, 'Triumph the Insult Comic Dog')\n",
    "\n",
    "wiki.loc[(wiki.date=='2016-11-09')] = wiki.loc[\n",
    "    (wiki.date=='2016-11-09')].replace({'Guest_4' : 'the Insult Comic Dog'}, 'None')"
   ]
  },
  {
   "cell_type": "code",
   "execution_count": 12,
   "metadata": {},
   "outputs": [],
   "source": [
    "wiki.loc[(wiki.date=='2017-04-05')] = wiki.loc[\n",
    "    (wiki.date=='2017-04-05')].replace({'Guest_2' : 'Jon Favreau'}, 'Pod Save America')\n",
    "\n",
    "wiki.loc[(wiki.date=='2017-04-05')] = wiki.loc[\n",
    "    (wiki.date=='2017-04-05')].replace({'Guest_3' : 'Jon Lovett'}, 'None')\n",
    "\n",
    "wiki.loc[(wiki.date=='2017-04-05')] = wiki.loc[\n",
    "    (wiki.date=='2017-04-05')].replace({'Guest_4' : 'Tommy Vietor'}, 'None')"
   ]
  },
  {
   "cell_type": "code",
   "execution_count": 13,
   "metadata": {},
   "outputs": [],
   "source": [
    "wiki.loc[(wiki.date=='2018-08-16')] = wiki.loc[\n",
    "    (wiki.date=='2018-08-16')].replace({'Guest_1' : 'Tommy Vietor'}, 'Pod Save America')\n",
    "\n",
    "wiki.loc[(wiki.date=='2018-08-16')] = wiki.loc[\n",
    "    (wiki.date=='2018-08-16')].replace({'Guest_2' : 'Jon Favreau'}, 'Constance Wu')\n",
    "\n",
    "wiki.loc[(wiki.date=='2018-08-16')] = wiki.loc[\n",
    "    (wiki.date=='2018-08-16')].replace({'Guest_3' : 'Jon Lovett'}, 'None')\n",
    "\n",
    "wiki.loc[(wiki.date=='2018-08-16')] = wiki.loc[\n",
    "    (wiki.date=='2018-08-16')].replace({'Guest_3' : 'Constance Wu'}, 'None')"
   ]
  },
  {
   "cell_type": "code",
   "execution_count": 14,
   "metadata": {},
   "outputs": [],
   "source": [
    "wiki.loc[(wiki.date=='2016-04-28')] = wiki.loc[\n",
    "    (wiki.date=='2016-04-28')].replace({'Guest_1' : 'Julianna Margulies'}, 'Julianna Margulies, Christine Baranski, Matt Czuchry')\n",
    "\n",
    "wiki.loc[(wiki.date=='2016-04-28')] = wiki.loc[\n",
    "    (wiki.date=='2016-04-28')].replace({'Guest_2' : 'Christine Baranski & Matt Czuchry; Hank Azaria'}, 'Hank Azaria')"
   ]
  },
  {
   "cell_type": "code",
   "execution_count": 15,
   "metadata": {},
   "outputs": [],
   "source": [
    "wiki.loc[(wiki.date=='2018-01-30')] = wiki.loc[\n",
    "    (wiki.date=='2018-01-30')].replace({'Guest_1' : 'Jon Favreau'}, 'Pod Save America')\n",
    "\n",
    "wiki.loc[(wiki.date=='2018-01-30')] = wiki.loc[\n",
    "    (wiki.date=='2018-01-30')].replace({'Guest_2' : 'Jon Lovett'}, '2 Dope Queens')\n",
    "\n",
    "wiki.loc[(wiki.date=='2018-01-30')] = wiki.loc[\n",
    "    (wiki.date=='2018-01-30')].replace({'Guest_3' : 'Tommy Vietor'}, 'None')\n",
    "\n",
    "wiki.loc[(wiki.date=='2018-01-30')] = wiki.loc[\n",
    "    (wiki.date=='2018-01-30')].replace({'Guest_4' : 'Jessica Williams'}, 'None')\n",
    "\n",
    "wiki.loc[(wiki.date=='2018-01-30')] = wiki.loc[\n",
    "    (wiki.date=='2018-01-30')].replace({'Guest_5' : 'Phoebe Robinson'}, 'None')"
   ]
  },
  {
   "cell_type": "code",
   "execution_count": 16,
   "metadata": {},
   "outputs": [],
   "source": [
    "wiki.loc[(wiki.date=='2018-10-23')] = wiki.loc[\n",
    "    (wiki.date=='2018-10-23')].replace({'Guest_1' : 'Jon Favreau'}, 'Pod Save America')\n",
    "\n",
    "wiki.loc[(wiki.date=='2018-10-23')] = wiki.loc[\n",
    "    (wiki.date=='2018-10-23')].replace({'Guest_2' : 'Jon Lovett'}, 'Charlamagne tha God')\n",
    "\n",
    "wiki.loc[(wiki.date=='2018-10-23')] = wiki.loc[\n",
    "    (wiki.date=='2018-10-23')].replace({'Guest_3' : 'Tommy Vietor'}, 'None')\n",
    "\n",
    "wiki.loc[(wiki.date=='2018-10-23')] = wiki.loc[\n",
    "    (wiki.date=='2018-10-23')].replace({'Guest_4' : 'Charlamagne tha God'}, 'None')"
   ]
  },
  {
   "cell_type": "code",
   "execution_count": 17,
   "metadata": {},
   "outputs": [],
   "source": [
    "wiki.loc[(wiki.date=='2017-03-29')] = wiki.loc[\n",
    "    (wiki.date=='2017-03-29')].replace({'Guest_3' : 'Luke Bryan & Dierks Bentley'}, 'Luke Bryan, Dierks Bentley')\n",
    "\n",
    "wiki.loc[(wiki.date=='2017-03-29')] = wiki.loc[\n",
    "    (wiki.date=='2017-03-29')].replace({'Guest_6' : 'Luke Bryan & Dierks Bentley'}, 'None')"
   ]
  },
  {
   "cell_type": "code",
   "execution_count": 18,
   "metadata": {},
   "outputs": [],
   "source": [
    "wiki.loc[(wiki.date=='2015-12-16')] = wiki.loc[\n",
    "    (wiki.date=='2015-12-16')].replace({'Guest_6' : 'Henry Rollins'}, 'None')"
   ]
  },
  {
   "cell_type": "code",
   "execution_count": 19,
   "metadata": {},
   "outputs": [],
   "source": [
    "wiki.loc[(wiki.date=='2017-04-26')] = wiki.loc[\n",
    "    (wiki.date=='2017-04-26')].replace({'Guest_3' : 'Dave & Virginia Grohl'}, 'Dave Grohl')"
   ]
  },
  {
   "cell_type": "code",
   "execution_count": 20,
   "metadata": {},
   "outputs": [],
   "source": [
    "wiki.loc[(wiki.date=='2016-07-15')] = wiki.loc[\n",
    "    (wiki.date=='2016-07-15')].replace({'Guest_2' : 'Gayle King & Norah O\\'Donnell'}, 'Gayle King, Norah O\\'Donnell')"
   ]
  },
  {
   "cell_type": "code",
   "execution_count": 21,
   "metadata": {},
   "outputs": [],
   "source": [
    "wiki.loc[(wiki.date=='2016-11-07')] = wiki.loc[\n",
    "    (wiki.date=='2016-11-07')].replace({'Guest_6' : 'Stevie Wonder'}, 'None')"
   ]
  },
  {
   "cell_type": "code",
   "execution_count": 22,
   "metadata": {},
   "outputs": [],
   "source": [
    "wiki.loc[(wiki.date=='2016-01-12')] = wiki.loc[\n",
    "    (wiki.date=='2016-01-12')].replace({'Guest_3' : 'Laura Ricciardi & Moira Demos'}, 'Laura Ricciardi, Moira Demos')"
   ]
  },
  {
   "cell_type": "code",
   "execution_count": 23,
   "metadata": {},
   "outputs": [],
   "source": [
    "wiki.loc[(wiki.date=='2016-07-28')] = wiki.loc[\n",
    "    (wiki.date=='2016-07-28')].replace({'Guest_1' : 'Abbi Jacobson & Ilana Glazer'}, 'Abbi Jacobson, Ilana Glazer')"
   ]
  },
  {
   "cell_type": "code",
   "execution_count": 24,
   "metadata": {},
   "outputs": [],
   "source": [
    "wiki.loc[(wiki.date=='2018-12-13')] = wiki.loc[\n",
    "    (wiki.date=='2018-12-13')].replace({'Guest_2' : 'Joaquín & Julian Castro'}, 'Joaquín Castro, Julian Castro')"
   ]
  },
  {
   "cell_type": "code",
   "execution_count": 25,
   "metadata": {},
   "outputs": [],
   "source": [
    "wiki.loc[(wiki.date=='2018-06-28')] = wiki.loc[\n",
    "    (wiki.date=='2018-06-28')].replace({'Guest_2' : 'Eric Andre & Derrick Beckles'}, 'Eric Andre, Derrick Beckles')"
   ]
  },
  {
   "cell_type": "code",
   "execution_count": 26,
   "metadata": {},
   "outputs": [],
   "source": [
    "wiki.loc[(wiki.date=='2016-04-21')] = wiki.loc[\n",
    "    (wiki.date=='2016-04-21')].replace({'Guest_2' : 'Leslie Odom'}, 'Leslie Odom Jr.')\n",
    "\n",
    "wiki.loc[(wiki.date=='2016-04-21')] = wiki.loc[\n",
    "    (wiki.date=='2016-04-21')].replace({'Guest_3' : 'Jr.'}, 'None')"
   ]
  },
  {
   "cell_type": "code",
   "execution_count": 27,
   "metadata": {},
   "outputs": [],
   "source": [
    "wiki.loc[(wiki.date=='2015-10-16')] = wiki.loc[\n",
    "    (wiki.date=='2015-10-16')].replace({'Guest_2' : 'Guillermo del Toro'},\n",
    "                                       'Guillermo del Toro, Jessica Chastain, Tom Hiddleston, Mia Wasikowska')\n",
    "\n",
    "wiki.loc[(wiki.date=='2015-10-16')] = wiki.loc[\n",
    "    (wiki.date=='2015-10-16')].replace({'Guest_3' : 'Jessica Chastain'}, 'None')\n",
    "\n",
    "wiki.loc[(wiki.date=='2015-10-16')] = wiki.loc[\n",
    "    (wiki.date=='2015-10-16')].replace({'Guest_4' : 'Tom Hiddleston'}, 'None')\n",
    "\n",
    "wiki.loc[(wiki.date=='2015-10-16')] = wiki.loc[\n",
    "    (wiki.date=='2015-10-16')].replace({'Guest_5' : 'Mia Wasikowska'}, 'None')"
   ]
  },
  {
   "cell_type": "code",
   "execution_count": 28,
   "metadata": {},
   "outputs": [],
   "source": [
    "wiki.loc[(wiki.date=='2015-09-18')] = wiki.loc[\n",
    "    (wiki.date=='2015-09-18')].replace({'Guest_6' : 'Robert Fairchild and Leanne Cope'}, 'Robert Fairchild, Leanne Cope')\n",
    "\n",
    "wiki.loc[(wiki.date=='2015-09-18')] = wiki.loc[\n",
    "    (wiki.date=='2015-09-18')].replace({'Guest_2' : 'Senator Bernie Sanders'}, 'Bernie Sanders')"
   ]
  },
  {
   "cell_type": "code",
   "execution_count": 29,
   "metadata": {},
   "outputs": [],
   "source": [
    "wiki.loc[(wiki.date=='2019-02-05')] = wiki.loc[\n",
    "    (wiki.date=='2019-02-05')].replace({'Guest_1' : 'Norah O\\'Donnell'}, 'Norah O\\'Donnell, John Dickerson, Gayle King, Bianna Golodryga')\n",
    "\n",
    "wiki.loc[(wiki.date=='2019-02-05')] = wiki.loc[\n",
    "    (wiki.date=='2019-02-05')].replace({'Guest_2' : 'John Dickerson'}, 'Spike Lee')\n",
    "\n",
    "wiki.loc[(wiki.date=='2019-02-05')] = wiki.loc[\n",
    "    (wiki.date=='2019-02-05')].replace({'Guest_3' : 'Gayle King'}, 'None')\n",
    "\n",
    "wiki.loc[(wiki.date=='2019-02-05')] = wiki.loc[\n",
    "    (wiki.date=='2019-02-05')].replace({'Guest_4' : 'Bianna Golodryga'}, 'None')\n",
    "\n",
    "wiki.loc[(wiki.date=='2019-02-05')] = wiki.loc[\n",
    "    (wiki.date=='2019-02-05')].replace({'Guest_5' : 'Spike Lee'}, 'None')"
   ]
  },
  {
   "cell_type": "code",
   "execution_count": 30,
   "metadata": {},
   "outputs": [],
   "source": [
    "wiki.loc[(wiki.date=='2017-02-13')] = wiki.loc[\n",
    "    (wiki.date=='2017-02-13')].replace({'Guest_3' : 'Rick & Marty Lagina'}, 'Rick Lagina, Marty Lagina')"
   ]
  },
  {
   "cell_type": "code",
   "execution_count": 31,
   "metadata": {},
   "outputs": [],
   "source": [
    "wiki.loc[(wiki.date=='2017-05-09')] = wiki.loc[\n",
    "    (wiki.date=='2017-05-09')].replace({'Guest_2' : 'Samantha Bee'}, 'Samantha Bee, John Oliver, Ed Helms, Rob Corddry')\n",
    "\n",
    "wiki.loc[(wiki.date=='2017-05-09')] = wiki.loc[\n",
    "    (wiki.date=='2017-05-09')].replace({'Guest_3' : 'John Oliver'}, 'None')\n",
    "\n",
    "wiki.loc[(wiki.date=='2017-05-09')] = wiki.loc[\n",
    "    (wiki.date=='2017-05-09')].replace({'Guest_4' : 'Ed Helms'}, 'None')\n",
    "\n",
    "wiki.loc[(wiki.date=='2017-05-09')] = wiki.loc[\n",
    "    (wiki.date=='2017-05-09')].replace({'Guest_5' : 'Rob Corddry'}, 'None')"
   ]
  },
  {
   "cell_type": "code",
   "execution_count": 32,
   "metadata": {},
   "outputs": [],
   "source": [
    "wiki.loc[(wiki.date=='2015-12-09')] = wiki.loc[\n",
    "    (wiki.date=='2015-12-09')].replace({'Guest_1' : 'Michelle Dockery'}, 'Michelle Dockery, Hugh Bonneville, Allen Leech')\n",
    "\n",
    "wiki.loc[(wiki.date=='2015-12-09')] = wiki.loc[\n",
    "    (wiki.date=='2015-12-09')].replace({'Guest_2' : 'Hugh Bonneville'}, 'None')\n",
    "\n",
    "wiki.loc[(wiki.date=='2015-12-09')] = wiki.loc[\n",
    "    (wiki.date=='2015-12-09')].replace({'Guest_3' : 'Allen Leech'}, 'None')"
   ]
  },
  {
   "cell_type": "code",
   "execution_count": 33,
   "metadata": {},
   "outputs": [],
   "source": [
    "wiki.loc[(wiki.date=='2015-10-16')] = wiki.loc[\n",
    "    (wiki.date=='2015-10-16')].replace({'Guest_2' : 'T. J. Miller'}, 'TJ Miller')"
   ]
  },
  {
   "cell_type": "code",
   "execution_count": 34,
   "metadata": {},
   "outputs": [],
   "source": [
    "wiki.loc[(wiki.date=='2016-03-02')] = wiki.loc[\n",
    "    (wiki.date=='2015-03-02')].replace({'Guest_2' : 'John Stamos'}, 'John Stamos, Bob Saget, Dave Coulier')\n",
    "\n",
    "wiki.loc[(wiki.date=='2016-03-02')] = wiki.loc[\n",
    "    (wiki.date=='2015-03-02')].replace({'Guest_3' : 'Bob Saget'}, 'None')\n",
    "\n",
    "wiki.loc[(wiki.date=='2016-03-02')] = wiki.loc[\n",
    "    (wiki.date=='2015-03-02')].replace({'Guest_4' : 'Dave Coulier'}, 'None')"
   ]
  },
  {
   "cell_type": "code",
   "execution_count": 35,
   "metadata": {},
   "outputs": [],
   "source": [
    "wiki.loc[(wiki.date=='2015-11-24')] = wiki.loc[\n",
    "    (wiki.date=='2015-11-24')].replace({'Guest_6' : 'Carly Simon'}, 'None')"
   ]
  },
  {
   "cell_type": "code",
   "execution_count": 36,
   "metadata": {},
   "outputs": [],
   "source": [
    "wiki.loc[(wiki.date=='2015-11-10')] = wiki.loc[\n",
    "    (wiki.date=='2015-11-10')].replace({'Guest_3' : 'Bruce Campbell & Lucy Lawless'}, 'Bruce Campbell, Lucy Lawless')"
   ]
  },
  {
   "cell_type": "code",
   "execution_count": 37,
   "metadata": {},
   "outputs": [],
   "source": [
    "wiki.loc[(wiki.date=='2015-09-30')] = wiki.loc[\n",
    "    (wiki.date=='2015-09-30')].replace({'Guest_3' : 'Bill Withers & Ed Sheeran'}, 'Bill Withers, Ed Sheeran')"
   ]
  },
  {
   "cell_type": "code",
   "execution_count": 38,
   "metadata": {},
   "outputs": [],
   "source": [
    "wiki.loc[(wiki.date=='2016-02-03')] = wiki.loc[\n",
    "    (wiki.date=='2016-02-03')].replace({'Guest_2' : 'Mark & Jay Duplass'}, 'Mark Duplass')\n",
    "\n",
    "wiki.loc[(wiki.date=='2016-02-03')] = wiki.loc[\n",
    "    (wiki.date=='2016-02-03')].replace({'Guest_6' : 'Anderson Paak and The Free Nationals'}, 'Anderson Paak, The Free Nationals')"
   ]
  },
  {
   "cell_type": "code",
   "execution_count": 39,
   "metadata": {},
   "outputs": [],
   "source": [
    "wiki.loc[(wiki.date=='2016-06-09')] = wiki.loc[\n",
    "    (wiki.date=='2016-06-09')].replace({'Guest_3' : 'Governors Gary Johnson & William Weld'}, 'Gary Johnson, William Weld')"
   ]
  },
  {
   "cell_type": "code",
   "execution_count": 40,
   "metadata": {},
   "outputs": [],
   "source": [
    "wiki.loc[(wiki.date=='2016-10-31')] = wiki.loc[\n",
    "    (wiki.date=='2016-10-31')].replace({'Guest_2' : 'J. B. Smoove'}, 'JB Smoove')\n",
    "\n",
    "wiki.loc[(wiki.date=='2016-10-31')] = wiki.loc[\n",
    "    (wiki.date=='2016-10-31')].replace({'Guest_3' : 'The Ghost Brothers'}, 'Ghost Brothers')"
   ]
  },
  {
   "cell_type": "code",
   "execution_count": 41,
   "metadata": {},
   "outputs": [],
   "source": [
    "wiki.loc[(wiki.date=='2019-01-30')] = wiki.loc[\n",
    "    (wiki.date=='2019-01-30')].replace({'Guest_1' : 'John Heilemann'}, 'John Heilemann, Mark McKinnon, Alex Wagner')\n",
    "\n",
    "wiki.loc[(wiki.date=='2019-01-30')] = wiki.loc[\n",
    "    (wiki.date=='2019-01-30')].replace({'Guest_2' : 'Mark McKinnon'}, 'None')\n",
    "\n",
    "wiki.loc[(wiki.date=='2019-01-30')] = wiki.loc[\n",
    "    (wiki.date=='2019-01-30')].replace({'Guest_3' : 'Alex Wagner'}, 'None')"
   ]
  },
  {
   "cell_type": "code",
   "execution_count": 42,
   "metadata": {},
   "outputs": [],
   "source": [
    "wiki.loc[(wiki.date=='2016-10-04')] = wiki.loc[\n",
    "    (wiki.date=='2016-10-04')].replace({'Guest_3' : 'Paul F. Tompkins'}, 'Paul Tompkins')"
   ]
  },
  {
   "cell_type": "code",
   "execution_count": 43,
   "metadata": {},
   "outputs": [],
   "source": [
    "wiki.loc[(wiki.date=='2016-02-15')] = wiki.loc[\n",
    "    (wiki.date=='2016-02-15')].replace({'Guest_2' : 'Hailey Clauson & Ashley Graham'}, 'Hailey Clauson, Ashley Graham')"
   ]
  },
  {
   "cell_type": "code",
   "execution_count": 44,
   "metadata": {},
   "outputs": [],
   "source": [
    "wiki.loc[(wiki.date=='2019-02-04')] = wiki.loc[\n",
    "    (wiki.date=='2019-02-04')].replace({'Guest_1' : 'Taraji P. Henson'}, 'Taraji Henson')"
   ]
  },
  {
   "cell_type": "code",
   "execution_count": 45,
   "metadata": {},
   "outputs": [],
   "source": [
    "wiki.loc[(wiki.date=='2017-03-07')] = wiki.loc[\n",
    "    (wiki.date=='2017-03-07')].replace({'Guest_3' : 'General Michael Hayden'}, 'Michael Hayden')"
   ]
  },
  {
   "cell_type": "code",
   "execution_count": 46,
   "metadata": {
    "scrolled": false
   },
   "outputs": [],
   "source": [
    "# Tracking the values in the `Guest_3` feature to see if their corresponding rows are already good to go or in need of\n",
    "# modification.\n",
    "OK = ['Brian Grene', 'Michaela Watkins', 'Paula Poundstone',  'Judy Gold', 'Gilbert Gottfried', 'Lewis Black',\n",
    "     'Ken Burns', 'Charlamagne Tha God', 'Roy Wood Jr.', 'Louie Anderson', 'George Takei', 'Chris Wallace', 'Robin Thede', \n",
    "      'Ta-Nehisi Coates', 'John McWhorter', 'Chris Gethard', 'Peter Serafinowicz', 'Marina Franklin', 'Jerrod Carmichael',\n",
    "      'John Irving', 'Amy Cuddy', 'Steve Kornacki', 'Morgan Spurlock', 'Michael Showalter', 'Michelle Wolf', \n",
    "      'Thomas L. Friedman', 'Max Brooks', 'Buzz Aldrin', 'Robert Klein', 'Jeff Watson', 'Tom Segura', 'Adam Richman',\n",
    "      'April Ryan', 'Jordan Klepper', 'Tom Papa', 'Jen Kirkman', 'RuPaul Charles', 'Jena Friedman', 'Christian Borle',\n",
    "      'Jon Glaser', 'Andrew Sullivan', 'Olivia Hallisey', 'Rob Huebel', 'Michael Pollan', 'Wyatt Cenac', 'Yvette Nicole Brown',\n",
    "      'Nell Scovell', 'Ben Sinclair', 'John Waters', 'Adam Savage', 'PewDiePie', 'Scott Rogowsky', 'Ronny Chieng',\n",
    "      'Michael Lewis', 'Carly Fleischmann', 'Paul Mecurio', 'H. Jon Benjamin', 'Dr. Eugenia Cheng', 'Moshe Kasher', \n",
    "      'Chesley Sullenberger', 'Niecy Nash', 'Malcolm Gladwell', 'George Church', 'Joe Walsh', 'Florent Groberg', \n",
    "      'Sam Richardson', 'Mike Epps', 'Asa Butterfield', 'Robert Smigel', 'Andy Daly', 'David Ortiz', 'DeRay Mckesson',\n",
    "      'Brian Huskey', 'Sonequa Martin-Green', 'Daniel Boulud', 'Jackson Galaxy', 'June Diane Raphael', 'Tony Rock',\n",
    "      'Alton Brown', 'John Avlon', '2 Chainz', 'Sarah Koenig', 'Ron Suskind', 'Jonah Reider', 'Dan Levy', 'Max Greenfield',\n",
    "      'David Chang', 'Senator Elizabeth Warren', 'Spike Feresten', 'Erin Brockovich', 'Andrew Delbanco', 'Jack Maxwell',\n",
    "      'George Saunders', 'Jorge Ramos', 'Derek DelGaudio', 'Dean Baquet', 'Nate Silver', 'Sean Evans', 'W. Kamau Bell',\n",
    "      'Carrie Brownstein', 'Congressman John Lewis', 'Mary Elizabeth Winstead', 'Bret Baier', 'Paul Scheer', 'Sarah McDaniel',\n",
    "      'Martha Stewart', 'Ezra Edelman', 'Senator Amy Klobuchar', \n",
    "     ]\n",
    "\n",
    "cleaned = ['Megyn Kelly', 'Triumph', 'Jon Lovett', 'Isaac Mizrahi', 'Luke Bryan & Dierks Bentley', 'Henry Rollins', \n",
    "          'Dave & Virginia Grohl', 'DeRay McKesson', 'Katherine Waterston', 'Laura Ricciardi & Moira Demos', 'Eric André',\n",
    "           'Ira Madison III', 'Alexandria Ocasio-Cortez', 'Jr.', 'Jessica Chastain', 'Christopher Wheeldon', 'Gayle King',\n",
    "           'Rick & Marty Lagina', 'John Oliver', 'Allen Leech', 'Oliver Stone', 'Bob Saget', 'Carly Simon', \n",
    "           'Bruce Campbell & Lucy Lawless', 'Bill Withers & Ed Sheeran', 'Michael Eric Dyson', \n",
    "           'Governors Gary Johnson & William Weld', 'John Heilemann', 'Marie Kondo', \n",
    "          ]"
   ]
  },
  {
   "cell_type": "code",
   "execution_count": 47,
   "metadata": {},
   "outputs": [],
   "source": [
    "wiki = wiki.fillna('None')\n",
    "\n",
    "# 10-10-2016 rerun of 8-22-2016 episode\n",
    "wiki = wiki[wiki['No.']!='-']\n",
    "wiki = wiki[wiki['No.']!='None']\n",
    "\n",
    "# 4-6-2017 rerun of 3-15-2017 episode\n",
    "wiki = wiki[wiki['No.']!='324']\n",
    "\n",
    "wiki = wiki.sort_values(by='date')\n",
    "wiki = wiki.reset_index()\n",
    "wiki = wiki.drop(['index'], axis=1)\n",
    "\n",
    "wiki['date'] = pd.to_datetime(wiki['date'], format='%Y-%m-%d')"
   ]
  },
  {
   "cell_type": "markdown",
   "metadata": {},
   "source": [
    "## Music and entertainment guests\n",
    "As we did with the \"regular\" guests, we can search for commas within the `Musical/entertainment guest(s)` column to see if there were multiple guests of this type."
   ]
  },
  {
   "cell_type": "code",
   "execution_count": 48,
   "metadata": {
    "scrolled": true
   },
   "outputs": [
    {
     "data": {
      "text/html": [
       "<div>\n",
       "<style scoped>\n",
       "    .dataframe tbody tr th:only-of-type {\n",
       "        vertical-align: middle;\n",
       "    }\n",
       "\n",
       "    .dataframe tbody tr th {\n",
       "        vertical-align: top;\n",
       "    }\n",
       "\n",
       "    .dataframe thead th {\n",
       "        text-align: right;\n",
       "    }\n",
       "</style>\n",
       "<table border=\"1\" class=\"dataframe\">\n",
       "  <thead>\n",
       "    <tr style=\"text-align: right;\">\n",
       "      <th></th>\n",
       "      <th>No.</th>\n",
       "      <th>Guest(s)</th>\n",
       "      <th>Musical/entertainment guest(s)</th>\n",
       "      <th>Guest_1</th>\n",
       "      <th>Guest_2</th>\n",
       "      <th>Guest_3</th>\n",
       "      <th>Guest_4</th>\n",
       "      <th>Guest_5</th>\n",
       "      <th>Guest_6</th>\n",
       "      <th>Guest_7</th>\n",
       "      <th>Guest_8</th>\n",
       "      <th>date</th>\n",
       "    </tr>\n",
       "  </thead>\n",
       "  <tbody>\n",
       "    <tr>\n",
       "      <th>115</th>\n",
       "      <td>117</td>\n",
       "      <td>Sarah Paulson, Tatiana Maslany</td>\n",
       "      <td>Wynton Marsalis, Lil Buck &amp; Jared Grimes</td>\n",
       "      <td>Sarah Paulson</td>\n",
       "      <td>Tatiana Maslany</td>\n",
       "      <td>None</td>\n",
       "      <td>None</td>\n",
       "      <td>None</td>\n",
       "      <td>Wynton Marsalis</td>\n",
       "      <td>Lil Buck &amp; Jared Grimes</td>\n",
       "      <td>None</td>\n",
       "      <td>2016-03-31</td>\n",
       "    </tr>\n",
       "    <tr>\n",
       "      <th>153</th>\n",
       "      <td>155</td>\n",
       "      <td>Laura Linney, John Leguizamo</td>\n",
       "      <td>Gary Clark, Jr.</td>\n",
       "      <td>Laura Linney</td>\n",
       "      <td>John Leguizamo</td>\n",
       "      <td>None</td>\n",
       "      <td>None</td>\n",
       "      <td>None</td>\n",
       "      <td>Gary Clark</td>\n",
       "      <td>Jr.</td>\n",
       "      <td>None</td>\n",
       "      <td>2016-06-08</td>\n",
       "    </tr>\n",
       "    <tr>\n",
       "      <th>376</th>\n",
       "      <td>379</td>\n",
       "      <td>Al Gore, Issa Rae</td>\n",
       "      <td>Sufjan Stevens, Nico Muhly, Bryce Dessner &amp; Ja...</td>\n",
       "      <td>Al Gore</td>\n",
       "      <td>Issa Rae</td>\n",
       "      <td>None</td>\n",
       "      <td>None</td>\n",
       "      <td>None</td>\n",
       "      <td>Sufjan Stevens</td>\n",
       "      <td>Nico Muhly</td>\n",
       "      <td>Bryce Dessner &amp; James McAlister</td>\n",
       "      <td>2017-07-17</td>\n",
       "    </tr>\n",
       "    <tr>\n",
       "      <th>381</th>\n",
       "      <td>384</td>\n",
       "      <td>Paul Bettany, Laura Benanti</td>\n",
       "      <td>Tyler, The Creator</td>\n",
       "      <td>Paul Bettany</td>\n",
       "      <td>Laura Benanti</td>\n",
       "      <td>None</td>\n",
       "      <td>None</td>\n",
       "      <td>None</td>\n",
       "      <td>Tyler</td>\n",
       "      <td>The Creator</td>\n",
       "      <td>None</td>\n",
       "      <td>2017-07-24</td>\n",
       "    </tr>\n",
       "    <tr>\n",
       "      <th>542</th>\n",
       "      <td>544</td>\n",
       "      <td>Jake Tapper</td>\n",
       "      <td>Erik Bergstrom, Liam Payne &amp; J Balvin</td>\n",
       "      <td>Jake Tapper</td>\n",
       "      <td>None</td>\n",
       "      <td>None</td>\n",
       "      <td>None</td>\n",
       "      <td>None</td>\n",
       "      <td>Erik Bergstrom</td>\n",
       "      <td>Liam Payne &amp; J Balvin</td>\n",
       "      <td>None</td>\n",
       "      <td>2018-05-17</td>\n",
       "    </tr>\n",
       "    <tr>\n",
       "      <th>567</th>\n",
       "      <td>569</td>\n",
       "      <td>Gordon Ramsay, Andrew Rannells</td>\n",
       "      <td>Shye Ben Tzur, Jonny Greenwood &amp; The Rajasthan...</td>\n",
       "      <td>Gordon Ramsay</td>\n",
       "      <td>Andrew Rannells</td>\n",
       "      <td>None</td>\n",
       "      <td>None</td>\n",
       "      <td>None</td>\n",
       "      <td>Shye Ben Tzur</td>\n",
       "      <td>Jonny Greenwood &amp; The Rajasthan Express</td>\n",
       "      <td>None</td>\n",
       "      <td>2018-07-09</td>\n",
       "    </tr>\n",
       "    <tr>\n",
       "      <th>598</th>\n",
       "      <td>600</td>\n",
       "      <td>Sharon Osbourne</td>\n",
       "      <td>Kathleen Madigan, Jay Rock</td>\n",
       "      <td>Sharon Osbourne</td>\n",
       "      <td>None</td>\n",
       "      <td>None</td>\n",
       "      <td>None</td>\n",
       "      <td>None</td>\n",
       "      <td>Kathleen Madigan</td>\n",
       "      <td>Jay Rock</td>\n",
       "      <td>None</td>\n",
       "      <td>2018-09-07</td>\n",
       "    </tr>\n",
       "    <tr>\n",
       "      <th>695</th>\n",
       "      <td>697</td>\n",
       "      <td>Jeff Goldblum</td>\n",
       "      <td>Jacques Torres, The Marcus King Band</td>\n",
       "      <td>Jeff Goldblum</td>\n",
       "      <td>None</td>\n",
       "      <td>None</td>\n",
       "      <td>None</td>\n",
       "      <td>None</td>\n",
       "      <td>Jacques Torres</td>\n",
       "      <td>The Marcus King Band</td>\n",
       "      <td>None</td>\n",
       "      <td>2019-02-15</td>\n",
       "    </tr>\n",
       "  </tbody>\n",
       "</table>\n",
       "</div>"
      ],
      "text/plain": [
       "     No.                        Guest(s)  \\\n",
       "115  117  Sarah Paulson, Tatiana Maslany   \n",
       "153  155    Laura Linney, John Leguizamo   \n",
       "376  379               Al Gore, Issa Rae   \n",
       "381  384     Paul Bettany, Laura Benanti   \n",
       "542  544                     Jake Tapper   \n",
       "567  569  Gordon Ramsay, Andrew Rannells   \n",
       "598  600                 Sharon Osbourne   \n",
       "695  697                   Jeff Goldblum   \n",
       "\n",
       "                        Musical/entertainment guest(s)          Guest_1  \\\n",
       "115           Wynton Marsalis, Lil Buck & Jared Grimes    Sarah Paulson   \n",
       "153                                    Gary Clark, Jr.     Laura Linney   \n",
       "376  Sufjan Stevens, Nico Muhly, Bryce Dessner & Ja...          Al Gore   \n",
       "381                                 Tyler, The Creator     Paul Bettany   \n",
       "542              Erik Bergstrom, Liam Payne & J Balvin      Jake Tapper   \n",
       "567  Shye Ben Tzur, Jonny Greenwood & The Rajasthan...    Gordon Ramsay   \n",
       "598                         Kathleen Madigan, Jay Rock  Sharon Osbourne   \n",
       "695               Jacques Torres, The Marcus King Band    Jeff Goldblum   \n",
       "\n",
       "             Guest_2 Guest_3 Guest_4 Guest_5           Guest_6  \\\n",
       "115  Tatiana Maslany    None    None    None   Wynton Marsalis   \n",
       "153   John Leguizamo    None    None    None        Gary Clark   \n",
       "376         Issa Rae    None    None    None    Sufjan Stevens   \n",
       "381    Laura Benanti    None    None    None             Tyler   \n",
       "542             None    None    None    None    Erik Bergstrom   \n",
       "567  Andrew Rannells    None    None    None     Shye Ben Tzur   \n",
       "598             None    None    None    None  Kathleen Madigan   \n",
       "695             None    None    None    None    Jacques Torres   \n",
       "\n",
       "                                     Guest_7                          Guest_8  \\\n",
       "115                  Lil Buck & Jared Grimes                             None   \n",
       "153                                      Jr.                             None   \n",
       "376                               Nico Muhly  Bryce Dessner & James McAlister   \n",
       "381                              The Creator                             None   \n",
       "542                    Liam Payne & J Balvin                             None   \n",
       "567  Jonny Greenwood & The Rajasthan Express                             None   \n",
       "598                                 Jay Rock                             None   \n",
       "695                     The Marcus King Band                             None   \n",
       "\n",
       "          date  \n",
       "115 2016-03-31  \n",
       "153 2016-06-08  \n",
       "376 2017-07-17  \n",
       "381 2017-07-24  \n",
       "542 2018-05-17  \n",
       "567 2018-07-09  \n",
       "598 2018-09-07  \n",
       "695 2019-02-15  "
      ]
     },
     "execution_count": 48,
     "metadata": {},
     "output_type": "execute_result"
    }
   ],
   "source": [
    "wiki[wiki['Musical/entertainment guest(s)'].str.contains(',')]"
   ]
  },
  {
   "cell_type": "code",
   "execution_count": 49,
   "metadata": {},
   "outputs": [],
   "source": [
    "wiki.loc[(wiki.date=='2016-03-31')] = wiki.loc[\n",
    "    (wiki.date=='2016-03-31')].replace({'Guest_6' : 'Wynton Marsalis'}, 'Wynton Marsalis, Lil Buck, Jared Grimes')\n",
    "\n",
    "wiki.loc[(wiki.date=='2016-03-31')] = wiki.loc[\n",
    "    (wiki.date=='2016-03-31')].replace({'Guest_7' : 'Lil Buck & Jared Grimes'}, 'None')"
   ]
  },
  {
   "cell_type": "code",
   "execution_count": 50,
   "metadata": {},
   "outputs": [],
   "source": [
    "wiki.loc[(wiki.date=='2016-06-08')] = wiki.loc[\n",
    "    (wiki.date=='2016-06-08')].replace({'Guest_6' : 'Gary Clark'}, 'Gary Clark Jr.')\n",
    "\n",
    "wiki.loc[(wiki.date=='2016-06-08')] = wiki.loc[\n",
    "    (wiki.date=='2016-06-08')].replace({'Guest_7' : 'None'}, 'None')"
   ]
  },
  {
   "cell_type": "code",
   "execution_count": 51,
   "metadata": {},
   "outputs": [],
   "source": [
    "wiki.loc[(wiki.date=='2017-07-17')] = wiki.loc[\n",
    "    (wiki.date=='2017-07-17')].replace({'Guest_6' : 'Sufjan Stevens'}, 'Sufjan Stevens, Nico Muhly, Bryce Dessner, James McAlister')\n",
    "\n",
    "wiki.loc[(wiki.date=='2017-07-17')] = wiki.loc[\n",
    "    (wiki.date=='2017-07-17')].replace({'Guest_7' : 'Nico Muhly'}, 'None')\n",
    "\n",
    "wiki.loc[(wiki.date=='2017-07-17')] = wiki.loc[\n",
    "    (wiki.date=='2017-07-17')].replace({'Guest_8' : 'Bryce Dessner & James McAlister'}, 'None')"
   ]
  },
  {
   "cell_type": "code",
   "execution_count": 52,
   "metadata": {},
   "outputs": [],
   "source": [
    "wiki.loc[(wiki.date=='2017-07-24')] = wiki.loc[\n",
    "    (wiki.date=='2017-07-24')].replace({'Guest_6' : 'Tyler'}, 'Tyler the Creator')\n",
    "\n",
    "wiki.loc[(wiki.date=='2017-07-24')] = wiki.loc[\n",
    "    (wiki.date=='2017-07-24')].replace({'Guest_7' : 'The Creator'}, 'None')"
   ]
  },
  {
   "cell_type": "code",
   "execution_count": 53,
   "metadata": {},
   "outputs": [],
   "source": [
    "wiki.loc[(wiki.date=='2018-05-17')] = wiki.loc[\n",
    "    (wiki.date=='2018-05-17')].replace({'Guest_7' : 'Liam Payne & J Balvin'}, 'Liam Payne, J. Balvin')"
   ]
  },
  {
   "cell_type": "code",
   "execution_count": 54,
   "metadata": {},
   "outputs": [],
   "source": [
    "wiki.loc[(wiki.date=='2018-05-17')] = wiki.loc[\n",
    "    (wiki.date=='2018-05-17')].replace({'Guest_6' : 'Shye Ben Tzur'}, 'Shye Ben Tzur, Jonny Greenwood, The Rajasthan Express')\n",
    "\n",
    "wiki.loc[(wiki.date=='2018-05-17')] = wiki.loc[\n",
    "    (wiki.date=='2018-05-17')].replace({'Guest_7' : 'Jonny Greenwood & The Rajasthan Express'}, 'None')"
   ]
  },
  {
   "cell_type": "code",
   "execution_count": 55,
   "metadata": {},
   "outputs": [],
   "source": [
    "wiki.loc[(wiki.date=='2019-02-15')] = wiki.loc[\n",
    "    (wiki.date=='2019-02-15')].replace({'Guest_7' : 'The Marcus King Band'}, 'Marcus King Band')"
   ]
  },
  {
   "cell_type": "code",
   "execution_count": 56,
   "metadata": {},
   "outputs": [],
   "source": [
    "wiki_new = pd.melt(wiki, id_vars=['date'], value_vars=['Guest_1','Guest_2','Guest_3','Guest_4','Guest_5',\n",
    "                                                       'Guest_6','Guest_7','Guest_8'], value_name='Guest')\n",
    "wiki_new = wiki_new.sort_values(by=['date','variable'])\n",
    "wiki_new = wiki_new[(wiki_new.Guest != None) & (wiki_new.Guest != 'None')]\n",
    "wiki_new = wiki_new.reset_index()\n",
    "wiki_new = wiki_new.drop(['index'], axis=1)"
   ]
  },
  {
   "cell_type": "markdown",
   "metadata": {},
   "source": [
    "# YOUTUBE VIDEOS\n",
    "Now it's time to bring in the YouTube pull. I tried multiple API scrapers, but none of them could properly handle the infinite scroll of a YouTube channel's videos page. All of them stopped at the bottom of the \"first page\" without initiating another page-down to capture more videos' data.\n",
    "\n",
    "I thus had to resort to using this tool (https://tools.digitalmethods.net/netvizz/youtube/mod_channel_info.php) created by the University of Amsterdam's Digital Methods Initiative. It saves the pull as a TAB file, so it must be converted to a CSV before it can be read in."
   ]
  },
  {
   "cell_type": "code",
   "execution_count": 57,
   "metadata": {},
   "outputs": [],
   "source": [
    "youtube = pd.read_csv('../LSSC_YT_Videos.csv', low_memory=False)"
   ]
  },
  {
   "cell_type": "code",
   "execution_count": 58,
   "metadata": {},
   "outputs": [],
   "source": [
    "youtube['date'] = pd.to_datetime(youtube['publishedAtSQL'])\n",
    "youtube['date'] = youtube['date'].dt.date\n",
    "youtube = youtube.drop(['channelId','channelTitle','publishedAt','videoCategoryId','videoCategoryLabel','duration',\n",
    "                        'dimension','caption','definition','licensedContent','favoriteCount','publishedAtSQL'], axis=1)\n",
    "\n",
    "# YouTube uploads of 'Late Show' videos in the early hours of the day after its corresponding episode airs on linear TV.\n",
    "# Accounting for this delay by subracting one day off the upload date.\n",
    "youtube['date'] = youtube['date'] - datetime.timedelta(days=1)\n",
    "youtube['date'] = pd.to_datetime(youtube['date'])"
   ]
  },
  {
   "cell_type": "markdown",
   "metadata": {},
   "source": [
    "# MERGING DATAFRAMES"
   ]
  },
  {
   "cell_type": "code",
   "execution_count": 59,
   "metadata": {
    "scrolled": true
   },
   "outputs": [
    {
     "data": {
      "text/html": [
       "<div>\n",
       "<style scoped>\n",
       "    .dataframe tbody tr th:only-of-type {\n",
       "        vertical-align: middle;\n",
       "    }\n",
       "\n",
       "    .dataframe tbody tr th {\n",
       "        vertical-align: top;\n",
       "    }\n",
       "\n",
       "    .dataframe thead th {\n",
       "        text-align: right;\n",
       "    }\n",
       "</style>\n",
       "<table border=\"1\" class=\"dataframe\">\n",
       "  <thead>\n",
       "    <tr style=\"text-align: right;\">\n",
       "      <th></th>\n",
       "      <th>date</th>\n",
       "      <th>variable</th>\n",
       "      <th>Guest</th>\n",
       "      <th>position</th>\n",
       "      <th>videoId</th>\n",
       "      <th>videoTitle</th>\n",
       "      <th>videoDescription</th>\n",
       "      <th>durationSec</th>\n",
       "      <th>viewCount</th>\n",
       "      <th>likeCount</th>\n",
       "      <th>dislikeCount</th>\n",
       "      <th>commentCount</th>\n",
       "    </tr>\n",
       "  </thead>\n",
       "  <tbody>\n",
       "    <tr>\n",
       "      <th>0</th>\n",
       "      <td>2015-09-08</td>\n",
       "      <td>Guest_1</td>\n",
       "      <td>George Clooney</td>\n",
       "      <td>5153</td>\n",
       "      <td>cSB7SRAReY0</td>\n",
       "      <td>George Clooney Extended Interview</td>\n",
       "      <td>George talks about his work on behalf of Darfu...</td>\n",
       "      <td>259</td>\n",
       "      <td>360057</td>\n",
       "      <td>2286</td>\n",
       "      <td>248</td>\n",
       "      <td>149</td>\n",
       "    </tr>\n",
       "    <tr>\n",
       "      <th>1</th>\n",
       "      <td>2015-09-08</td>\n",
       "      <td>Guest_1</td>\n",
       "      <td>George Clooney</td>\n",
       "      <td>5154</td>\n",
       "      <td>qmGflkMYi5k</td>\n",
       "      <td>Jeb Gets His Trump On</td>\n",
       "      <td>Stephen helps Jeb prep for the next GOP debate...</td>\n",
       "      <td>122</td>\n",
       "      <td>232577</td>\n",
       "      <td>2164</td>\n",
       "      <td>333</td>\n",
       "      <td>263</td>\n",
       "    </tr>\n",
       "    <tr>\n",
       "      <th>2</th>\n",
       "      <td>2015-09-08</td>\n",
       "      <td>Guest_1</td>\n",
       "      <td>George Clooney</td>\n",
       "      <td>5155</td>\n",
       "      <td>XG78zEhuPCI</td>\n",
       "      <td>Introducing The New Ed Sullivan Theater</td>\n",
       "      <td>Stephen shows off his completely renovated set...</td>\n",
       "      <td>344</td>\n",
       "      <td>430547</td>\n",
       "      <td>3137</td>\n",
       "      <td>460</td>\n",
       "      <td>271</td>\n",
       "    </tr>\n",
       "    <tr>\n",
       "      <th>3</th>\n",
       "      <td>2015-09-08</td>\n",
       "      <td>Guest_1</td>\n",
       "      <td>George Clooney</td>\n",
       "      <td>5156</td>\n",
       "      <td>F5zjVUZA7rY</td>\n",
       "      <td>All You Can Trump Buffet</td>\n",
       "      <td>Stephen knows talking about Donald Trump is te...</td>\n",
       "      <td>342</td>\n",
       "      <td>4590314</td>\n",
       "      <td>36667</td>\n",
       "      <td>2504</td>\n",
       "      <td>3649</td>\n",
       "    </tr>\n",
       "    <tr>\n",
       "      <th>4</th>\n",
       "      <td>2015-09-08</td>\n",
       "      <td>Guest_1</td>\n",
       "      <td>George Clooney</td>\n",
       "      <td>5157</td>\n",
       "      <td>lVlfN_H3Lzk</td>\n",
       "      <td>Jeb Bush Has Something Nice To Say About Obama</td>\n",
       "      <td>Jeb Bush goes rogue and says something not tot...</td>\n",
       "      <td>92</td>\n",
       "      <td>588030</td>\n",
       "      <td>2768</td>\n",
       "      <td>458</td>\n",
       "      <td>526</td>\n",
       "    </tr>\n",
       "  </tbody>\n",
       "</table>\n",
       "</div>"
      ],
      "text/plain": [
       "        date variable           Guest  position      videoId  \\\n",
       "0 2015-09-08  Guest_1  George Clooney      5153  cSB7SRAReY0   \n",
       "1 2015-09-08  Guest_1  George Clooney      5154  qmGflkMYi5k   \n",
       "2 2015-09-08  Guest_1  George Clooney      5155  XG78zEhuPCI   \n",
       "3 2015-09-08  Guest_1  George Clooney      5156  F5zjVUZA7rY   \n",
       "4 2015-09-08  Guest_1  George Clooney      5157  lVlfN_H3Lzk   \n",
       "\n",
       "                                       videoTitle  \\\n",
       "0               George Clooney Extended Interview   \n",
       "1                           Jeb Gets His Trump On   \n",
       "2         Introducing The New Ed Sullivan Theater   \n",
       "3                        All You Can Trump Buffet   \n",
       "4  Jeb Bush Has Something Nice To Say About Obama   \n",
       "\n",
       "                                    videoDescription  durationSec  viewCount  \\\n",
       "0  George talks about his work on behalf of Darfu...          259     360057   \n",
       "1  Stephen helps Jeb prep for the next GOP debate...          122     232577   \n",
       "2  Stephen shows off his completely renovated set...          344     430547   \n",
       "3  Stephen knows talking about Donald Trump is te...          342    4590314   \n",
       "4  Jeb Bush goes rogue and says something not tot...           92     588030   \n",
       "\n",
       "   likeCount  dislikeCount  commentCount  \n",
       "0       2286           248           149  \n",
       "1       2164           333           263  \n",
       "2       3137           460           271  \n",
       "3      36667          2504          3649  \n",
       "4       2768           458           526  "
      ]
     },
     "execution_count": 59,
     "metadata": {},
     "output_type": "execute_result"
    }
   ],
   "source": [
    "data = pd.merge(wiki_new, youtube, on='date')\n",
    "data.head()"
   ]
  },
  {
   "cell_type": "code",
   "execution_count": 60,
   "metadata": {},
   "outputs": [],
   "source": [
    "# Removing titles that will interfere with the Google Knowledge API that we'll eventually run.\n",
    "titles = ['Secretary of State ', 'Secretary General ', 'Senator ', 'Vice President ', 'Dr. ', 'Representative ', 'Congressman ',\n",
    "          'Governor ', 'Governors ', 'The ', 'the ','Justice ']\n",
    "\n",
    "for title in titles:\n",
    "    data['Guest'] = data['Guest'].str.replace(title, '')"
   ]
  },
  {
   "cell_type": "code",
   "execution_count": 61,
   "metadata": {
    "scrolled": false
   },
   "outputs": [],
   "source": [
    "# While a single guest slot can contain multiple guests, we're extracting the first guest and using this as the unique\n",
    "# identifier for each row.\n",
    "data['guest_first'] = data.Guest.str.split().str.slice(stop=2)\n",
    "data['guest_first'] = data.guest_first.apply(' '.join)"
   ]
  },
  {
   "cell_type": "code",
   "execution_count": 62,
   "metadata": {},
   "outputs": [],
   "source": [
    "data = data[ data.apply(lambda row: row.guest_first in row.videoTitle, axis=1) ]\n",
    "data = data.reset_index()\n",
    "data = data.drop(['index'], axis=1)"
   ]
  },
  {
   "cell_type": "code",
   "execution_count": 63,
   "metadata": {
    "scrolled": true
   },
   "outputs": [],
   "source": [
    "# Using the first two words as the first name unique identifier works for most entries, but not all. Cleaning these up.\n",
    "data['guest_1'] = data.Guest.str.split().str[:2].str.join(' ')\n",
    "data.loc[data.guest_1 == 'Michael C.', 'guest_1'] = 'Michael C. Hall'\n",
    "data.loc[data.guest_1 == 'Samuel L.', 'guest_1'] = 'Samuel L. Jackson'\n",
    "data.loc[data.guest_1 == 'J. J.', 'guest_1'] = 'JJ Abrams'\n",
    "data.loc[data.guest_1 == 'William H.', 'guest_1'] = 'William H. Macy'\n",
    "data.loc[data.guest_1 == 'J. K.', 'guest_1'] = 'JK Simmons'\n",
    "data.loc[data.guest_1 == 'W. Kamau', 'guest_1'] = 'W. Kamau Bell'\n",
    "data.loc[data.guest_1 == 'B. J.', 'guest_1'] = 'BJ Novak'\n",
    "data.loc[data.guest_1 == 'Michael K.', 'guest_1'] = 'Michael K. Williams'\n",
    "data.loc[data.guest_1 == 'Paul F.', 'guest_1'] = 'Paul F. Tompkins'\n",
    "data.loc[data.guest_1 == 'Thomas L.', 'guest_1'] = 'Thomas L. Friedman'\n",
    "data.loc[data.guest_1 == 'H. Jon', 'guest_1'] = 'H. Jon Benjamin'\n",
    "data.loc[data.guest_1 == 'Sterling K.', 'guest_1'] = 'Sterling K. Brown'\n",
    "data.loc[data.guest_1 == 'Jimmy O.', 'guest_1'] = 'Jimmy O. Yang'\n",
    "data.loc[data.guest_1 == 'Michael B.', 'guest_1'] = 'Michael B. Jordan'\n",
    "data.loc[data.guest_1 == 'St. Paul', 'guest_1'] = 'St. Paul and the Broken Bones'\n",
    "data.loc[data.guest_1 == 'John C.', 'guest_1'] = 'John C. Reilly'\n",
    "data.loc[data.guest_1 == 'M. Night', 'guest_1'] = 'M. Night Shyamalan'\n",
    "data.loc[data.guest_1 == 'Taraji P.', 'guest_1'] = 'Taraji P. Henson'\n",
    "data.loc[data.guest_1 == 'Flight of', 'guest_1'] = 'Flight of the Conchords'\n",
    "data.loc[data.guest_1 == 'Strand of', 'guest_1'] = 'Strand of Oaks'\n",
    "data.loc[data.guest_1 == 'Band of', 'guest_1'] = 'Band of Horses'\n",
    "data.loc[data.guest_1 == 'Florence and', 'guest_1'] = 'Florence and the Machine'\n",
    "data.loc[data.guest_1 == 'Christine and', 'guest_1'] = 'Christine and the Queens'\n",
    "data.loc[data.guest_1 == 'Sara &', 'guest_1'] = 'Sara Foster'\n",
    "data.loc[data.guest_1 == 'Rick &', 'guest_1'] = 'Marty Lagina'\n",
    "data.loc[data.guest_1 == 'Tim &', 'guest_1'] = 'Eric Wareheim'\n",
    "data.loc[data.guest_1 == 'Desus &', 'guest_1'] = 'Desus and Mero'\n",
    "data.loc[data.guest_1 == 'Andrea &', 'guest_1'] = 'Andrea Bocelli'\n",
    "data.loc[data.guest_1 == 'Bill &', 'guest_1'] = 'Bill Gates'\n",
    "data.loc[data.guest_1 == 'Mumford &', 'guest_1'] = 'Mumford and Sons'"
   ]
  },
  {
   "cell_type": "markdown",
   "metadata": {},
   "source": [
    "# PICKLING FILE"
   ]
  },
  {
   "cell_type": "code",
   "execution_count": 64,
   "metadata": {},
   "outputs": [],
   "source": [
    "with open(\"../pickles/LSSC_EDA.pkl\", 'wb') as LSSC_EDA:\n",
    "    pickle.dump(data, LSSC_EDA)"
   ]
  }
 ],
 "metadata": {
  "kernelspec": {
   "display_name": "Python 3",
   "language": "python",
   "name": "python3"
  },
  "language_info": {
   "codemirror_mode": {
    "name": "ipython",
    "version": 3
   },
   "file_extension": ".py",
   "mimetype": "text/x-python",
   "name": "python",
   "nbconvert_exporter": "python",
   "pygments_lexer": "ipython3",
   "version": "3.6.5"
  },
  "toc": {
   "base_numbering": 1,
   "nav_menu": {},
   "number_sections": true,
   "sideBar": true,
   "skip_h1_title": false,
   "title_cell": "Table of Contents",
   "title_sidebar": "Contents",
   "toc_cell": false,
   "toc_position": {
    "height": "calc(100% - 180px)",
    "left": "10px",
    "top": "150px",
    "width": "293px"
   },
   "toc_section_display": true,
   "toc_window_display": true
  }
 },
 "nbformat": 4,
 "nbformat_minor": 2
}
